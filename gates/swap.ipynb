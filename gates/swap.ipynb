{
 "metadata": {
  "language_info": {
   "codemirror_mode": {
    "name": "ipython",
    "version": 3
   },
   "file_extension": ".py",
   "mimetype": "text/x-python",
   "name": "python",
   "nbconvert_exporter": "python",
   "pygments_lexer": "ipython3",
   "version": "3.9.0-final"
  },
  "orig_nbformat": 2,
  "kernelspec": {
   "name": "python3",
   "display_name": "Python 3",
   "language": "python"
  }
 },
 "nbformat": 4,
 "nbformat_minor": 2,
 "cells": [
  {
   "cell_type": "code",
   "execution_count": 1,
   "metadata": {},
   "outputs": [],
   "source": [
    "from qiskit import QuantumCircuit, Aer, execute\n",
    "from qiskit.visualization import plot_histogram\n",
    "\n",
    "qasm_backend = Aer.get_backend(\"qasm_simulator\")\n",
    "statevector_backend = Aer.get_backend(\"statevector_simulator\")"
   ]
  },
  {
   "cell_type": "code",
   "execution_count": 2,
   "metadata": {},
   "outputs": [
    {
     "output_type": "stream",
     "name": "stdout",
     "text": [
      "[0.+0.j 0.+0.j 1.+0.j 0.+0.j]\n"
     ]
    }
   ],
   "source": [
    "qc = QuantumCircuit(2)\n",
    "\n",
    "input_1 = 0\n",
    "input_2 = 1\n",
    "\n",
    "if input_1:\n",
    "    qc.x(0)\n",
    "if input_2:\n",
    "    qc.x(1)\n",
    "\n",
    "state_vector = execute(qc, statevector_backend).result().get_statevector()\n",
    "print(state_vector)"
   ]
  },
  {
   "cell_type": "code",
   "execution_count": 3,
   "metadata": {},
   "outputs": [
    {
     "output_type": "stream",
     "name": "stdout",
     "text": [
      "[0.+0.j 1.+0.j 0.+0.j 0.+0.j]\n"
     ]
    }
   ],
   "source": [
    "qc.swap(0,1)\n",
    "\n",
    "state_vector = execute(qc, statevector_backend).result().get_statevector()\n",
    "print(state_vector)"
   ]
  },
  {
   "cell_type": "code",
   "execution_count": 4,
   "metadata": {},
   "outputs": [
    {
     "output_type": "execute_result",
     "data": {
      "text/plain": [
       "             \n",
       "q_0: ──────X─\n",
       "     ┌───┐ │ \n",
       "q_1: ┤ X ├─X─\n",
       "     └───┘   "
      ],
      "text/html": "<pre style=\"word-wrap: normal;white-space: pre;background: #fff0;line-height: 1.1;font-family: &quot;Courier New&quot;,Courier,monospace\">             \nq_0: ──────X─\n     ┌───┐ │ \nq_1: ┤ X ├─X─\n     └───┘   </pre>"
     },
     "metadata": {},
     "execution_count": 4
    }
   ],
   "source": [
    "qc.draw()"
   ]
  },
  {
   "cell_type": "code",
   "execution_count": null,
   "metadata": {},
   "outputs": [],
   "source": []
  }
 ]
}